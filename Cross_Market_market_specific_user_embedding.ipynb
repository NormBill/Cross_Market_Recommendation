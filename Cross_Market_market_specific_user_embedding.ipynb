{
  "cells": [
    {
      "cell_type": "code",
      "execution_count": null,
      "metadata": {
        "colab": {
          "base_uri": "https://localhost:8080/"
        },
        "id": "e-VskvTdZxjU",
        "outputId": "3c37f9da-be23-415f-ec06-b640cc0a2646"
      },
      "outputs": [
        {
          "output_type": "stream",
          "name": "stdout",
          "text": [
            "fatal: destination path 'Cross_Market_Recommendation' already exists and is not an empty directory.\n"
          ]
        }
      ],
      "source": [
        "!git clone https://github.com/NormBill/Cross_Market_Recommendation.git"
      ]
    },
    {
      "cell_type": "code",
      "execution_count": null,
      "metadata": {
        "colab": {
          "base_uri": "https://localhost:8080/"
        },
        "id": "zsoQRlNvrKLS",
        "outputId": "e110e2aa-06e5-4800-84b6-336079205b1f"
      },
      "outputs": [
        {
          "output_type": "stream",
          "name": "stdout",
          "text": [
            "Done: https://ciir.cs.umass.edu/downloads/XMarket/FULL/ca/Electronics/ratings_ca_Electronics.txt.gz\n",
            "Done: https://ciir.cs.umass.edu/downloads/XMarket/FULL/ca/Electronics/reviews_ca_Electronics.json.gz\n"
          ]
        }
      ],
      "source": [
        "import os\n",
        "import urllib.request as urlreq\n",
        "\n",
        "tgt_markets = ['ca']\n",
        "tgt_cat = 'Electronics'\n",
        "\n",
        "fix_url = 'https://ciir.cs.umass.edu/downloads/XMarket/FULL/'\n",
        "orig_data_dl = 'DATA2/orig_data'\n",
        "proc_data_out = 'DATA2/proc_data'\n",
        "if not os.path.exists(orig_data_dl):\n",
        "    os.makedirs(orig_data_dl)\n",
        "if not os.path.exists(proc_data_out):\n",
        "    os.makedirs(proc_data_out)\n",
        "\n",
        "for tgt_market in tgt_markets:\n",
        "    cur_url = f'{fix_url}{tgt_market}/{tgt_cat}/ratings_{tgt_market}_{tgt_cat}.txt.gz'\n",
        "    urlreq.urlretrieve(cur_url, f'{orig_data_dl}/ratings_{tgt_market}_{tgt_cat}.txt.gz')\n",
        "    print(f'Done: {cur_url}')\n",
        "    cur_url_review = f'{fix_url}{tgt_market}/{tgt_cat}/reviews_{tgt_market}_{tgt_cat}.json.gz'\n",
        "    urlreq.urlretrieve(cur_url_review, f'{orig_data_dl}/reviews_{tgt_market}_{tgt_cat}.json.gz')\n",
        "    print(f'Done: {cur_url_review}')"
      ]
    },
    {
      "cell_type": "code",
      "execution_count": null,
      "metadata": {
        "id": "oXPJQU4bbHCc"
      },
      "outputs": [],
      "source": [
        "import numpy as np\n",
        "import torch"
      ]
    },
    {
      "cell_type": "code",
      "execution_count": null,
      "metadata": {
        "colab": {
          "base_uri": "https://localhost:8080/"
        },
        "id": "mieUHFTsaiSX",
        "outputId": "3eccafcb-1c20-4648-a9c3-b44337ba3e65"
      },
      "outputs": [
        {
          "output_type": "stream",
          "name": "stdout",
          "text": [
            "<class 'pandas.core.frame.DataFrame'>\n",
            "RangeIndex: 422228 entries, 0 to 422227\n",
            "Data columns (total 2 columns):\n",
            " #   Column    Non-Null Count   Dtype \n",
            "---  ------    --------------   ----- \n",
            " 0   userId    422228 non-null  object\n",
            " 1   itemList  422228 non-null  object\n",
            "dtypes: object(2)\n",
            "memory usage: 6.4+ MB\n"
          ]
        }
      ],
      "source": [
        "import pandas as pd\n",
        "\n",
        "# us_ratings_file = \"/content/Cross_Market_Recommendation/us_user_part0.csv\"\n",
        "ca_ratings_file = \"/content/Cross_Market_Recommendation/ca_user_data.csv\"\n",
        "# sg_ratings_file = \"/content/Cross_Market_Recommendation/sg_user_data.csv\"\n",
        "# us_df = pd.read_csv(us_ratings_file, skiprows=1, header=None, names=[\"userId\", \"itemList\"])\n",
        "ca_df = pd.read_csv(ca_ratings_file, skiprows=1, header=None, names=[\"userId\", \"itemList\"])\n",
        "# sg_df = pd.read_csv(sg_ratings_file, skiprows=1, header=None, names=[\"userId\", \"itemList\"])\n",
        "# us_df.info()\n",
        "ca_df.info()\n",
        "# sg_df.info()"
      ]
    },
    {
      "cell_type": "code",
      "execution_count": null,
      "metadata": {
        "colab": {
          "base_uri": "https://localhost:8080/"
        },
        "id": "4U3R9iRHb4wJ",
        "outputId": "c3c894bf-3fc3-44a5-ce9e-ff5cf8a3705f"
      },
      "outputs": [
        {
          "output_type": "stream",
          "name": "stdout",
          "text": [
            "CA DataFrame - First Row:\n",
            "                         userId                      itemList\n",
            "0  AG7XIRXSJ6MOXRGBI7QTKRPL2FSQ  ['B00C2P61FO', 'B00NEYHIHM']\n"
          ]
        }
      ],
      "source": [
        "# print(\"US DataFrame - First Row:\")\n",
        "# print(us_df.head(1))\n",
        "\n",
        "print(\"CA DataFrame - First Row:\")\n",
        "print(ca_df.head(1))\n",
        "\n",
        "# print(\"SG DataFrame - First Row:\")\n",
        "# print(sg_df.head(1))"
      ]
    },
    {
      "cell_type": "code",
      "execution_count": null,
      "metadata": {
        "id": "Zj66ik20ra9-"
      },
      "outputs": [],
      "source": [
        "import os\n",
        "import urllib.request as urlreq\n",
        "import gzip\n",
        "import json\n",
        "\n",
        "# us_ratings_file = f'{orig_data_dl}/ratings_us_{tgt_cat}.txt.gz'\n",
        "\n",
        "# us_rating_df = pd.read_csv(us_ratings_file, compression='gzip', header=None, sep=' ', names=[\"userId\", \"itemId\", \"rate\", \"date\"] )\n",
        "\n",
        "# us_items_set = set(us_rating_df['itemId'].unique())\n",
        "\n",
        "ca_ratings_file = f'{orig_data_dl}/ratings_ca_{tgt_cat}.txt.gz'\n",
        "\n",
        "ca_rating_df = pd.read_csv(ca_ratings_file, compression='gzip', header=None, sep=' ', names=[\"userId\", \"itemId\", \"rate\", \"date\"] )\n",
        "\n",
        "ca_items_set = set(ca_rating_df['itemId'].unique())\n",
        "\n",
        "# sg_ratings_file = f'{orig_data_dl}/ratings_sg_{tgt_cat}.txt.gz'\n",
        "\n",
        "# sg_rating_df = pd.read_csv(sg_ratings_file, compression='gzip', header=None, sep=' ', names=[\"userId\", \"itemId\", \"rate\", \"date\"] )\n",
        "\n",
        "# sg_items_set = set(sg_rating_df['itemId'].unique())"
      ]
    },
    {
      "cell_type": "code",
      "source": [
        "!pip install torch dgl"
      ],
      "metadata": {
        "colab": {
          "base_uri": "https://localhost:8080/"
        },
        "id": "qugINx_8tQbR",
        "outputId": "08d0abaf-e040-44ca-8c13-6fdde84329a6"
      },
      "execution_count": null,
      "outputs": [
        {
          "output_type": "stream",
          "name": "stdout",
          "text": [
            "Requirement already satisfied: torch in /usr/local/lib/python3.10/dist-packages (2.0.1+cu118)\n",
            "Requirement already satisfied: dgl in /usr/local/lib/python3.10/dist-packages (1.1.2)\n",
            "Requirement already satisfied: filelock in /usr/local/lib/python3.10/dist-packages (from torch) (3.12.2)\n",
            "Requirement already satisfied: typing-extensions in /usr/local/lib/python3.10/dist-packages (from torch) (4.7.1)\n",
            "Requirement already satisfied: sympy in /usr/local/lib/python3.10/dist-packages (from torch) (1.12)\n",
            "Requirement already satisfied: networkx in /usr/local/lib/python3.10/dist-packages (from torch) (3.1)\n",
            "Requirement already satisfied: jinja2 in /usr/local/lib/python3.10/dist-packages (from torch) (3.1.2)\n",
            "Requirement already satisfied: triton==2.0.0 in /usr/local/lib/python3.10/dist-packages (from torch) (2.0.0)\n",
            "Requirement already satisfied: cmake in /usr/local/lib/python3.10/dist-packages (from triton==2.0.0->torch) (3.27.2)\n",
            "Requirement already satisfied: lit in /usr/local/lib/python3.10/dist-packages (from triton==2.0.0->torch) (16.0.6)\n",
            "Requirement already satisfied: numpy>=1.14.0 in /usr/local/lib/python3.10/dist-packages (from dgl) (1.23.5)\n",
            "Requirement already satisfied: scipy>=1.1.0 in /usr/local/lib/python3.10/dist-packages (from dgl) (1.10.1)\n",
            "Requirement already satisfied: requests>=2.19.0 in /usr/local/lib/python3.10/dist-packages (from dgl) (2.31.0)\n",
            "Requirement already satisfied: tqdm in /usr/local/lib/python3.10/dist-packages (from dgl) (4.66.1)\n",
            "Requirement already satisfied: psutil>=5.8.0 in /usr/local/lib/python3.10/dist-packages (from dgl) (5.9.5)\n",
            "Requirement already satisfied: charset-normalizer<4,>=2 in /usr/local/lib/python3.10/dist-packages (from requests>=2.19.0->dgl) (3.2.0)\n",
            "Requirement already satisfied: idna<4,>=2.5 in /usr/local/lib/python3.10/dist-packages (from requests>=2.19.0->dgl) (3.4)\n",
            "Requirement already satisfied: urllib3<3,>=1.21.1 in /usr/local/lib/python3.10/dist-packages (from requests>=2.19.0->dgl) (2.0.4)\n",
            "Requirement already satisfied: certifi>=2017.4.17 in /usr/local/lib/python3.10/dist-packages (from requests>=2.19.0->dgl) (2023.7.22)\n",
            "Requirement already satisfied: MarkupSafe>=2.0 in /usr/local/lib/python3.10/dist-packages (from jinja2->torch) (2.1.3)\n",
            "Requirement already satisfied: mpmath>=0.19 in /usr/local/lib/python3.10/dist-packages (from sympy->torch) (1.3.0)\n"
          ]
        }
      ]
    },
    {
      "cell_type": "code",
      "execution_count": null,
      "metadata": {
        "id": "Gc6KSTsKc_cY"
      },
      "outputs": [],
      "source": [
        "from collections import defaultdict\n",
        "from collections import Counter\n",
        "import dgl\n",
        "\n",
        "# ca\n",
        "# Constructing a mapping between userId and itemList\n",
        "ca_item_mapping = {item: idx for idx, item in enumerate(ca_items_set)}\n",
        "ca_user_mapping = {user: idx for idx, user in enumerate(ca_df['userId'].unique())}\n",
        "\n",
        "# Create inverted index for each item\n",
        "inverted_index = defaultdict(set)\n",
        "\n",
        "\n",
        "# 使用一个Counter来记录每对用户之间的共同物品数量\n",
        "pairwise_common_items_count = Counter()\n",
        "\n",
        "for idx, row in ca_df.iterrows():\n",
        "    user_idx = ca_user_mapping[row['userId']]\n",
        "    items = eval(row['itemList'])\n",
        "    for item in items:\n",
        "        users_having_item = inverted_index[item]\n",
        "        for other_user in users_having_item:\n",
        "            if user_idx != other_user:\n",
        "                # 为每一对用户的组合记录+1\n",
        "                # 我们使用一个元组 (smaller_idx, larger_idx) 来确保唯一性\n",
        "                pairwise_common_items_count[(min(user_idx, other_user), max(user_idx, other_user))] += 1\n",
        "        inverted_index[item].add(user_idx)\n",
        "\n",
        "# 通过检查计数器来收集边\n",
        "src_nodes = []\n",
        "dst_nodes = []\n",
        "\n",
        "for (user1, user2), common_count in pairwise_common_items_count.items():\n",
        "    if common_count >= 2:\n",
        "        src_nodes.append(user1)\n",
        "        dst_nodes.append(user2)\n",
        "\n",
        "# 使用这些边来创建DGL图\n",
        "g = dgl.graph((src_nodes, dst_nodes))\n",
        "\n",
        "\n",
        "print(\"Number of nodes:\", g.number_of_nodes())\n",
        "print(\"Number of edges:\", g.number_of_edges())\n"
      ]
    },
    {
      "cell_type": "code",
      "source": [
        "import dgl\n",
        "import dgl.nn as dglnn\n",
        "import torch.nn as nn\n",
        "import torch\n",
        "\n",
        "# 定义GraphSAGE模型\n",
        "class GraphSAGE(nn.Module):\n",
        "    def __init__(self, in_feats, h_feats, num_layers):\n",
        "        super(GraphSAGE, self).__init__()\n",
        "        self.convs = nn.ModuleList()\n",
        "\n",
        "        # 输入层\n",
        "        self.convs.append(dglnn.SAGEConv(in_feats, h_feats, 'mean'))\n",
        "        # 隐藏层\n",
        "        for l in range(num_layers - 1):\n",
        "            self.convs.append(dglnn.SAGEConv(h_feats, h_feats, 'mean'))\n",
        "\n",
        "    def forward(self, g, in_feat):\n",
        "        h = in_feat\n",
        "        for conv in self.convs:\n",
        "            h = conv(g, h)\n",
        "        return h\n",
        "\n",
        "# 根据您的图数据，您有397723个节点\n",
        "node_count = 397723\n",
        "\n",
        "# 为这些节点创建随机的5维输入特征\n",
        "inputs = torch.randn(node_count, 5)\n",
        "\n",
        "# 定义一个GraphSAGE模型实例\n",
        "model = GraphSAGE(5, 16, 2)  # 5维输入特征，16维隐藏特征，2层\n",
        "\n",
        "# 得到嵌入\n",
        "g = dgl.graph((src_nodes, dst_nodes))"
      ],
      "metadata": {
        "id": "Y4htY884v5KU"
      },
      "execution_count": null,
      "outputs": []
    },
    {
      "cell_type": "code",
      "execution_count": null,
      "metadata": {
        "id": "jhhPRb8sdEx5"
      },
      "outputs": [],
      "source": [
        "!pip install scikit-learn"
      ]
    },
    {
      "cell_type": "code",
      "source": [
        "# Cluster\n",
        "import torch\n",
        "import torch.nn.functional as F\n",
        "from sklearn.cluster import KMeans\n",
        "\n",
        "def target_distribution(q):\n",
        "    weight = q ** 2 / q.sum(0)\n",
        "    return (weight.t() / weight.sum(1)).t()\n",
        "\n",
        "def Clustering(z, Uw):\n",
        "    q = 1.0 / (1.0 + torch.sum(torch.pow(z.unsqueeze(1) - Uw, 2), 2))\n",
        "    q = q.pow((1 + 1.0) / 2.0)\n",
        "    q = (q.t() / torch.sum(q, 1)).t()\n",
        "    p = target_distribution(q)\n",
        "    kl_loss = F.kl_div(q.log(), p)\n",
        "    return kl_loss, q\n"
      ],
      "metadata": {
        "id": "WbNgs-RHnx_-"
      },
      "execution_count": null,
      "outputs": []
    },
    {
      "cell_type": "code",
      "execution_count": null,
      "metadata": {
        "id": "YbVYgOHAZGoE"
      },
      "outputs": [],
      "source": [
        "# Initialize cluster centers Uw, here you can use KMeans or just randomly select some embeddings\n",
        "# For simplicity, I am taking random embeddings. Let's assume we want 10 clusters\n",
        "# Number of clusters\n",
        "num_clusters = 10\n",
        "\n",
        "# Number of clustering iterations\n",
        "num_iterations = 500\n",
        "\n",
        "embeddings = model(g, inputs)\n",
        "\n",
        "# Apply K-Means clustering to initialize cluster centers\n",
        "kmeans = KMeans(n_clusters=num_clusters, random_state=0).fit(embeddings.detach().numpy())\n",
        "Uw = torch.tensor(kmeans.cluster_centers_, requires_grad=True)\n",
        "\n",
        "for iteration in range(num_iterations):\n",
        "    embeddings = model(g, inputs)\n",
        "\n",
        "    # Choose an optimizer\n",
        "    optimizer = torch.optim.SGD([Uw], lr=0.01, momentum=0.9)\n",
        "\n",
        "    # Zero gradients\n",
        "    optimizer.zero_grad()\n",
        "\n",
        "    # Forward pass: Compute q and KL loss\n",
        "    kl_loss, ca_q = Clustering(embeddings, Uw)\n",
        "\n",
        "    # Backward pass: Compute gradient of the loss with respect to model parameters\n",
        "    kl_loss.backward(retain_graph=True)\n",
        "\n",
        "    # Update Uw using gradient information\n",
        "    optimizer.step()\n",
        "\n",
        "    # Print the current KL loss value for monitoring\n",
        "    if iteration % 100 == 0:\n",
        "        print(f\"Iteration {iteration}, KL Loss: {kl_loss.item()}\")"
      ]
    },
    {
      "cell_type": "code",
      "execution_count": null,
      "metadata": {
        "id": "0YuuODjX_h7D"
      },
      "outputs": [],
      "source": [
        "print(ca_q)"
      ]
    },
    {
      "cell_type": "code",
      "source": [
        "ca_general_user = ca_q.mean(dim=0)\n",
        "print(ca_general_user)"
      ],
      "metadata": {
        "id": "fMbPYyyXFRqi"
      },
      "execution_count": null,
      "outputs": []
    },
    {
      "cell_type": "code",
      "source": [
        "with open(\"ca_general_user.txt\", \"w\") as file:\n",
        "    for value in ca_general_user:\n",
        "        file.write(str(value.item()) + \"\\n\")"
      ],
      "metadata": {
        "id": "oKkIMlISF3Wc"
      },
      "execution_count": null,
      "outputs": []
    }
  ],
  "metadata": {
    "colab": {
      "provenance": []
    },
    "kernelspec": {
      "display_name": "Python 3",
      "name": "python3"
    },
    "language_info": {
      "name": "python"
    }
  },
  "nbformat": 4,
  "nbformat_minor": 0
}